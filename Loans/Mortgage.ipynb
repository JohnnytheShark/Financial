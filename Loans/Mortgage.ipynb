{
 "metadata": {
  "language_info": {
   "codemirror_mode": {
    "name": "ipython",
    "version": 3
   },
   "file_extension": ".py",
   "mimetype": "text/x-python",
   "name": "python",
   "nbconvert_exporter": "python",
   "pygments_lexer": "ipython3",
   "version": "3.8.5-final"
  },
  "orig_nbformat": 2,
  "kernelspec": {
   "name": "python38564bita031c7049d0d4b30b591eeca4e7b5897",
   "display_name": "Python 3.8.5 64-bit"
  }
 },
 "nbformat": 4,
 "nbformat_minor": 2,
 "cells": [
  {
   "cell_type": "code",
   "execution_count": 12,
   "metadata": {},
   "outputs": [
    {
     "output_type": "stream",
     "name": "stdout",
     "text": [
      "1108.86\n"
     ]
    }
   ],
   "source": [
    "Loan = input('Please input your loan amount:')\n",
    "InterestRate = input('Please input your interest rate in percentage form: ')\n",
    "Years = input('Please input your length of loan (regarding years):')\n",
    "\n",
    "Loan = int(Loan)\n",
    "InterestRate = float(InterestRate)\n",
    "Years = int(Years)\n",
    "\n",
    "def MortgageCalculator(Loan=300000,InterestRate=4.5,Years=30):\n",
    "    MonthlyInterestRate= (InterestRate/100)/12\n",
    "    TotalMonths = Years*12\n",
    "    return Loan * ((MonthlyInterestRate*(1+MonthlyInterestRate)**TotalMonths)/((1+MonthlyInterestRate)**TotalMonths - 1))\n",
    "\n",
    "Mortgage = round(MortgageCalculator(Loan,InterestRate,Years),2)\n",
    "print(Mortgage)\n",
    "\n",
    "    "
   ]
  },
  {
   "cell_type": "code",
   "execution_count": null,
   "metadata": {},
   "outputs": [],
   "source": []
  }
 ]
}