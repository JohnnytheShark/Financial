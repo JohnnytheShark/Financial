{
 "metadata": {
  "language_info": {
   "codemirror_mode": {
    "name": "ipython",
    "version": 3
   },
   "file_extension": ".py",
   "mimetype": "text/x-python",
   "name": "python",
   "nbconvert_exporter": "python",
   "pygments_lexer": "ipython3",
   "version": "3.8.5-final"
  },
  "orig_nbformat": 2,
  "kernelspec": {
   "name": "python38564bita031c7049d0d4b30b591eeca4e7b5897",
   "display_name": "Python 3.8.5 64-bit"
  }
 },
 "nbformat": 4,
 "nbformat_minor": 2,
 "cells": [
  {
   "cell_type": "code",
   "execution_count": null,
   "metadata": {},
   "outputs": [],
   "source": [
    "# StockPrice = 50\n",
    "# StrikePrice = 50\n",
    "# TimeToExpiration = 1\n",
    "# Volatility = 0.30\n",
    "# RiskFreeRate = 0.05\n",
    "# Dividends = 0\n"
   ]
  },
  {
   "cell_type": "code",
   "execution_count": 28,
   "metadata": {},
   "outputs": [
    {
     "output_type": "stream",
     "name": "stdout",
     "text": [
      "-50.0\n350.0\n"
     ]
    }
   ],
   "source": [
    "StrikePrice = 46.00 #Final Price that are willing to purchase\n",
    "NumberOfContracts = 1\n",
    "Contract = 100 * NumberOfContracts\n",
    "CurrentStockPrice = 42.00\n",
    "Expiration = 4  #Months\n",
    "OptionPrice = 0.50\n",
    "\n",
    "\n",
    "InitialInvestment = Contract * OptionPrice\n",
    "#Long Call\n",
    "Profit = max(CurrentStockPrice - StrikePrice,0)*Contract - InitialInvestment\n",
    "print(Profit)\n",
    "#Long Put\n",
    "Profit = max(StrikePrice - CurrentStockPrice,0)*Contract - InitialInvestment\n",
    "print(Profit)\n",
    "\n"
   ]
  },
  {
   "cell_type": "code",
   "execution_count": null,
   "metadata": {},
   "outputs": [],
   "source": []
  }
 ]
}