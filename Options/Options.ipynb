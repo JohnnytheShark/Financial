{
 "metadata": {
  "language_info": {
   "codemirror_mode": {
    "name": "ipython",
    "version": 3
   },
   "file_extension": ".py",
   "mimetype": "text/x-python",
   "name": "python",
   "nbconvert_exporter": "python",
   "pygments_lexer": "ipython3",
   "version": "3.8.5-final"
  },
  "orig_nbformat": 2,
  "kernelspec": {
   "name": "python38564bita031c7049d0d4b30b591eeca4e7b5897",
   "display_name": "Python 3.8.5 64-bit"
  }
 },
 "nbformat": 4,
 "nbformat_minor": 2,
 "cells": [
  {
   "cell_type": "code",
   "execution_count": null,
   "metadata": {},
   "outputs": [],
   "source": [
    "import math\n"
   ]
  },
  {
   "cell_type": "code",
   "execution_count": null,
   "metadata": {},
   "outputs": [],
   "source": [
    "StrikePrice = 39.00 #Final Price that are willing to purchase\n",
    "NumberOfContracts = 1\n",
    "Contract = 100 * NumberOfContracts\n",
    "CurrentStockPrice = 37.00\n",
    "OptionPrice = 0.41\n",
    "\n",
    "\n",
    "InitialInvestment = Contract * OptionPrice\n",
    "\n",
    "#Profits in European Options:\n",
    "#Long Call\n",
    "Profit = max(CurrentStockPrice - StrikePrice,0)*Contract - InitialInvestment\n",
    "print(Profit)\n",
    "#Short Call\n",
    "Profit = -max(CurrentStockPrice-StrikePrice,0)*Contract + InitialInvestment\n",
    "print(Profit)\n",
    "#Long Put\n",
    "Profit = max(StrikePrice - CurrentStockPrice,0)*Contract - InitialInvestment\n",
    "print(Profit)\n",
    "#Short Put\n",
    "Profit = min(CurrentStockPrice - StrikePrice,0)*Contract + InitialInvestment\n",
    "print(Profit)\n"
   ]
  },
  {
   "cell_type": "code",
   "execution_count": null,
   "metadata": {},
   "outputs": [],
   "source": [
    "#Variables:\n",
    "CurrentStockPrice = 0\n",
    "StrikePrice = 0\n",
    "TimetoExpiration = 0\n",
    "StockPriceExpiration = 0\n",
    "riskfreerate = 0 #nominal interest rate\n",
    "AmericanCallOption = 0\n",
    "AmericanPutOption = 0\n",
    "EuropeanCallOption = 0\n",
    "EuropeanPutOption = 0\n",
    "\n",
    "#Option Pricing:\n",
    "\n",
    "#Upper Bounds\n",
    "#Call\n",
    "UpperBound = EuropeanCallOption <= CurrentStockPrice\n",
    "UpperBound = AmericanCallOption <= CurrentStockPrice\n",
    "#American Put\n",
    "UpperBound = AmericanPutOption <= StrikePrice\n",
    "#European Put\n",
    "UpperBound = EuropeanPutOption <= StrikePrice*math.expo(-riskfreerate*TimetoExpiration)\n",
    "\n",
    "#Lower Bounds\n",
    "#European Call Option:\n"
   ]
  }
 ]
}